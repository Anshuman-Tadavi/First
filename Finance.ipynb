{
  "nbformat": 4,
  "nbformat_minor": 0,
  "metadata": {
    "colab": {
      "name": "Finance.ipynb",
      "provenance": [],
      "authorship_tag": "ABX9TyNIyeCc8ZTzYbs9/NmRPCbv",
      "include_colab_link": true
    },
    "kernelspec": {
      "name": "python3",
      "display_name": "Python 3"
    }
  },
  "cells": [
    {
      "cell_type": "markdown",
      "metadata": {
        "id": "view-in-github",
        "colab_type": "text"
      },
      "source": [
        "<a href=\"https://colab.research.google.com/github/Anshuman-Tadavi/First/blob/master/Finance.ipynb\" target=\"_parent\"><img src=\"https://colab.research.google.com/assets/colab-badge.svg\" alt=\"Open In Colab\"/></a>"
      ]
    },
    {
      "cell_type": "markdown",
      "metadata": {
        "id": "-R6q3XqoDFq_"
      },
      "source": [
        "# Basic Financial Computation"
      ]
    },
    {
      "cell_type": "code",
      "metadata": {
        "id": "czqOy0jOCpPD"
      },
      "source": [
        "import pandas as pd\n",
        "import numpy as np\n",
        "import scipy.stats as s"
      ],
      "execution_count": null,
      "outputs": []
    },
    {
      "cell_type": "code",
      "metadata": {
        "id": "qh2UDWmGC-2l"
      },
      "source": [
        "Fin=pd.DataFrame({'Principle':np.ppmt(.01,range(0,12),12,-12000,0,\"end\"),\n",
        "                  \"Int\":np.ipmt(.01,range(0,12),12,-12000,0,\"end\")})\n",
        "Fin"
      ],
      "execution_count": null,
      "outputs": []
    },
    {
      "cell_type": "code",
      "metadata": {
        "id": "0X6IWKW1DCvQ"
      },
      "source": [
        "Fin['Payment']=Fin[\"Principle\"]+Fin[\"Int\"]\n",
        "Fin"
      ],
      "execution_count": null,
      "outputs": []
    },
    {
      "cell_type": "code",
      "metadata": {
        "id": "TJAf-rLuDEfr"
      },
      "source": [
        "-Fin.Principle+Fin.Principle.shift(1)"
      ],
      "execution_count": null,
      "outputs": []
    },
    {
      "cell_type": "markdown",
      "metadata": {
        "id": "0BxJ_jgSDQrz"
      },
      "source": [
        "# Time Series and Stock Market Analysis"
      ]
    },
    {
      "cell_type": "code",
      "metadata": {
        "id": "_IcPVnHsDYwN"
      },
      "source": [
        ""
      ],
      "execution_count": null,
      "outputs": []
    }
  ]
}