{
  "nbformat": 4,
  "nbformat_minor": 0,
  "metadata": {
    "colab": {
      "name": "R.ipynb",
      "provenance": [],
      "authorship_tag": "ABX9TyPUhgH3yuR1lXnmDG+Qq1DT",
      "include_colab_link": true
    },
    "kernelspec": {
      "name": "ir",
      "display_name": "R"
    }
  },
  "cells": [
    {
      "cell_type": "markdown",
      "metadata": {
        "id": "view-in-github",
        "colab_type": "text"
      },
      "source": [
        "<a href=\"https://colab.research.google.com/github/Anshuman-Tadavi/First/blob/master/R.ipynb\" target=\"_parent\"><img src=\"https://colab.research.google.com/assets/colab-badge.svg\" alt=\"Open In Colab\"/></a>"
      ]
    },
    {
      "cell_type": "code",
      "metadata": {
        "id": "udV-WV66p42l"
      },
      "source": [
        "library(tidyverse)\n",
        "library(shiny)"
      ],
      "execution_count": 4,
      "outputs": []
    },
    {
      "cell_type": "markdown",
      "metadata": {
        "id": "23XTPLSIGyXe"
      },
      "source": [
        "## Focus on Input"
      ]
    },
    {
      "cell_type": "code",
      "metadata": {
        "id": "wT6KOTmyqbNu",
        "outputId": "adf61d5d-e5a0-46c5-b4cb-84107855ba1a",
        "colab": {
          "base_uri": "https://localhost:8080/",
          "height": 68
        }
      },
      "source": [
        "shinyApp(fluidPage(\n",
        "  sidebarPanel(\n",
        "    sliderInput('a','A',0,25,5),\n",
        "    \n",
        "    checkboxGroupInput('b','B',levels(iris$Species)),\n",
        "    radioButtons('h','H',levels(iris$Species)),\n",
        "    selectInput('i','I',levels(iris$Species)),\n",
        "\n",
        "    dateInput('d','D'),\n",
        "    dateRangeInput('e','E'),\n",
        "    \n",
        "    numericInput('f','F',value = 5),\n",
        "    passwordInput('g','G'),\n",
        "    \n",
        "    textInput('j','J'),\n",
        "    fileInput('k','K'),\n",
        "    \n",
        "    actionButton('l','L'),\n",
        "    actionLink('m','M'),\n",
        "    submitButton()\n",
        "  ), \n",
        "  mainPanel(plotOutput('n'))\n",
        "),\n",
        "function(input,output){\n",
        "  output$n <- renderPlot(plot(cars))\n",
        "})\n"
      ],
      "execution_count": 5,
      "outputs": [
        {
          "output_type": "stream",
          "text": [
            "\n",
            "Listening on http://127.0.0.1:7137\n",
            "\n"
          ],
          "name": "stderr"
        }
      ]
    },
    {
      "cell_type": "markdown",
      "metadata": {
        "id": "X1u8w1XLIIQJ"
      },
      "source": [
        "## Focus on Output"
      ]
    },
    {
      "cell_type": "code",
      "metadata": {
        "id": "TkLoTLZLICsC",
        "outputId": "c7f517aa-6883-4b58-ba0d-09da9e58adaa",
        "colab": {
          "base_uri": "https://localhost:8080/",
          "height": 68
        }
      },
      "source": [
        "shinyApp(fluidPage(\n",
        "  sidebarPanel(\n",
        "  sliderInput(inputId = 'speed','Speed',0,25,25),\n",
        "  sliderInput(inputId = 'dist','Dist',0,120,120)),\n",
        "  mainPanel(plotOutput('plot'),\n",
        "            plotOutput('plotact'))),\n",
        "\n",
        "function(input,output){\n",
        "  output$plot <- renderPlot(\n",
        "    plot(filter(cars,speed < as.character(input$speed))))\n",
        "  output$plotact <- renderPlot(\n",
        "    cars %>% filter(dist < as.numeric(input$dist)) %>% \n",
        "      ggplot()+geom_point(aes(dist,speed))\n",
        "  )\n",
        "})"
      ],
      "execution_count": null,
      "outputs": [
        {
          "output_type": "stream",
          "text": [
            "\n",
            "Listening on http://127.0.0.1:7137\n",
            "\n"
          ],
          "name": "stderr"
        }
      ]
    }
  ]
}