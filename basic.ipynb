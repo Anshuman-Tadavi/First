{
  "nbformat": 4,
  "nbformat_minor": 0,
  "metadata": {
    "colab": {
      "name": "basic.ipynb",
      "provenance": [],
      "collapsed_sections": [
        "9IlLs3tfX4HZ"
      ],
      "authorship_tag": "ABX9TyPEzmP8gsv2IbvIMAfhXSkH",
      "include_colab_link": true
    },
    "kernelspec": {
      "name": "python3",
      "display_name": "Python 3"
    }
  },
  "cells": [
    {
      "cell_type": "markdown",
      "metadata": {
        "id": "view-in-github",
        "colab_type": "text"
      },
      "source": [
        "<a href=\"https://colab.research.google.com/github/Anshuman-Tadavi/First/blob/master/basic.ipynb\" target=\"_parent\"><img src=\"https://colab.research.google.com/assets/colab-badge.svg\" alt=\"Open In Colab\"/></a>"
      ]
    },
    {
      "cell_type": "markdown",
      "metadata": {
        "id": "9IlLs3tfX4HZ"
      },
      "source": [
        "# Data Cleaning"
      ]
    },
    {
      "cell_type": "code",
      "metadata": {
        "id": "KPR_b4w7lh4e"
      },
      "source": [
        "import pandas as pd\n",
        "import seaborn as sns\n",
        "import numpy as np"
      ],
      "execution_count": 1,
      "outputs": []
    },
    {
      "cell_type": "code",
      "metadata": {
        "id": "vwICB4LALr66",
        "outputId": "b4a91dd0-b5b8-44d9-8783-70d21afb5f3b",
        "colab": {
          "base_uri": "https://localhost:8080/",
          "height": 34
        }
      },
      "source": [
        "np."
      ],
      "execution_count": null,
      "outputs": [
        {
          "output_type": "execute_result",
          "data": {
            "text/plain": [
              "2.718281828459045"
            ]
          },
          "metadata": {
            "tags": []
          },
          "execution_count": 3
        }
      ]
    },
    {
      "cell_type": "code",
      "metadata": {
        "id": "xGJ2aAFplnZR"
      },
      "source": [
        "iris = sns.load_dataset('iris')\n",
        "iris.head(2)"
      ],
      "execution_count": null,
      "outputs": []
    },
    {
      "cell_type": "markdown",
      "metadata": {
        "id": "Zx-7-leJl7iC"
      },
      "source": [
        "Rename of columns"
      ]
    },
    {
      "cell_type": "code",
      "metadata": {
        "id": "aaltZhdvlxSs"
      },
      "source": [
        "iris.columns = ['sl','sw','pl','pw','s']\n",
        "iris.head()"
      ],
      "execution_count": null,
      "outputs": []
    },
    {
      "cell_type": "markdown",
      "metadata": {
        "id": "alPWEE7-meU5"
      },
      "source": [
        "Spread"
      ]
    },
    {
      "cell_type": "code",
      "metadata": {
        "id": "KYowBYP6mD4m"
      },
      "source": [
        "i1=iris.melt('s')\n",
        "i1"
      ],
      "execution_count": null,
      "outputs": []
    },
    {
      "cell_type": "markdown",
      "metadata": {
        "id": "WkxUN1ayme9P"
      },
      "source": [
        "Pivot/GroupBy"
      ]
    },
    {
      "cell_type": "code",
      "metadata": {
        "id": "rxItqTq-mG31"
      },
      "source": [
        "b=i1.pivot_table(values='value',index='variable',columns='s',aggfunc=np.min)\n",
        "b"
      ],
      "execution_count": null,
      "outputs": []
    },
    {
      "cell_type": "markdown",
      "metadata": {
        "id": "bYAOlg7tmfru"
      },
      "source": [
        "Filter and Select"
      ]
    },
    {
      "cell_type": "code",
      "metadata": {
        "id": "jISa8b54mWRD"
      },
      "source": [
        "iris[(iris.sl > 6) & (iris.pl >3)][['sl','pl']]"
      ],
      "execution_count": null,
      "outputs": []
    },
    {
      "cell_type": "markdown",
      "metadata": {
        "id": "Ne5A4ejzmhuH"
      },
      "source": [
        "If Statement"
      ]
    },
    {
      "cell_type": "code",
      "metadata": {
        "id": "S1Y3km2cmXcq"
      },
      "source": [
        "if    2<1   :print(True)\n",
        "elif  3>1   :print(\"This is true\")    \n",
        "else        :print(False)"
      ],
      "execution_count": null,
      "outputs": []
    },
    {
      "cell_type": "markdown",
      "metadata": {
        "id": "3aP8iGQ_mi0v"
      },
      "source": [
        "Function"
      ]
    },
    {
      "cell_type": "code",
      "metadata": {
        "id": "31ejR23AmbBE"
      },
      "source": [
        "def newfunction(x,y)  :print((x+y)*x*y)\n",
        "newfunction(5,6)"
      ],
      "execution_count": null,
      "outputs": []
    },
    {
      "cell_type": "markdown",
      "metadata": {
        "id": "D7a2dJXzmjko"
      },
      "source": [
        "Function"
      ]
    },
    {
      "cell_type": "code",
      "metadata": {
        "id": "S60OGg5pmc_M"
      },
      "source": [
        "newfunc1= lambda x,y  :(x+y)*x*y\n",
        "newfunc1(5,6)"
      ],
      "execution_count": null,
      "outputs": []
    },
    {
      "cell_type": "markdown",
      "metadata": {
        "id": "IMV9THhhm-uN"
      },
      "source": [
        "Loop"
      ]
    },
    {
      "cell_type": "code",
      "metadata": {
        "id": "_nnLzqv0nALy"
      },
      "source": [
        "for i in range(20,100,5)  :print(i)"
      ],
      "execution_count": null,
      "outputs": []
    },
    {
      "cell_type": "markdown",
      "metadata": {
        "id": "ald50OcFoLjN"
      },
      "source": [
        "Read CSV"
      ]
    },
    {
      "cell_type": "code",
      "metadata": {
        "id": "JwKeb2ODoN35"
      },
      "source": [
        "import os\n",
        "os.getcwd()\n",
        "df = pd.read_csv (r'/content/mtcars.csv')\n",
        "df"
      ],
      "execution_count": null,
      "outputs": []
    },
    {
      "cell_type": "markdown",
      "metadata": {
        "id": "DiUHACdIQNQ1"
      },
      "source": [
        "Add new column with lead or lag"
      ]
    },
    {
      "cell_type": "code",
      "metadata": {
        "id": "onm590YbQQX6"
      },
      "source": [
        "df['test']=df.mpg/df.gear.shift(-3)\n",
        "df.tail(9)"
      ],
      "execution_count": null,
      "outputs": []
    },
    {
      "cell_type": "code",
      "metadata": {
        "id": "n0k7C84Qwlrx"
      },
      "source": [
        "df.rename( columns={'Unnamed: 0':'name'}, inplace=True )\n",
        "df.head(2)"
      ],
      "execution_count": null,
      "outputs": []
    },
    {
      "cell_type": "markdown",
      "metadata": {
        "id": "GGMSJtbDeNpg"
      },
      "source": [
        "# Statistics"
      ]
    },
    {
      "cell_type": "code",
      "metadata": {
        "id": "QkI5Xfh-YFPI"
      },
      "source": [
        "from scipy import stats as s\n",
        "import numpy as np"
      ],
      "execution_count": null,
      "outputs": []
    },
    {
      "cell_type": "markdown",
      "metadata": {
        "id": "89D7LsPAbmL-"
      },
      "source": [
        "Normal Distribution"
      ]
    },
    {
      "cell_type": "code",
      "metadata": {
        "id": "I2mDDQ1OYdMv"
      },
      "source": [
        "s.norm.pdf(range(0,5,2))\n",
        "s.norm.ppf(np.arange(0,1,.1))"
      ],
      "execution_count": null,
      "outputs": []
    },
    {
      "cell_type": "markdown",
      "metadata": {
        "id": "LGj47yucbruR"
      },
      "source": [
        "Binomial Distribution"
      ]
    },
    {
      "cell_type": "code",
      "metadata": {
        "id": "c8tAd6nxY564"
      },
      "source": [
        "s.binom.pmf(np.arange(0,40), 40, .5) "
      ],
      "execution_count": null,
      "outputs": []
    },
    {
      "cell_type": "code",
      "metadata": {
        "id": "zwwP0bIDjMUG"
      },
      "source": [
        "import sklearn as sk\n",
        "import sklearn.metrics"
      ],
      "execution_count": null,
      "outputs": []
    },
    {
      "cell_type": "markdown",
      "metadata": {
        "id": "zXSamh6aihrT"
      },
      "source": [
        "Range of Integers and Floats and For Loop Storage\n",
        "\n",
        "\n",
        "*   Important : More focus needed\n"
      ]
    },
    {
      "cell_type": "code",
      "metadata": {
        "id": "sm77h8Q6iuwA"
      },
      "source": [
        "#Float\n",
        "a=[]\n",
        "for i in np.arange(0,5,.001):\n",
        "    a.append(i)"
      ],
      "execution_count": null,
      "outputs": []
    },
    {
      "cell_type": "code",
      "metadata": {
        "id": "wehqlMUii2nr"
      },
      "source": [
        "data = []\n",
        "for i in range(5):\n",
        "    data.append(i * i)"
      ],
      "execution_count": null,
      "outputs": []
    },
    {
      "cell_type": "code",
      "metadata": {
        "id": "cTDjoxmNjDQK"
      },
      "source": [
        "s.norm.pdf(np.arange(1,5,.1))"
      ],
      "execution_count": null,
      "outputs": []
    },
    {
      "cell_type": "markdown",
      "metadata": {
        "id": "lqGHvGKgFgHr"
      },
      "source": [
        "# Visualisation Basic"
      ]
    },
    {
      "cell_type": "markdown",
      "metadata": {
        "id": "RBdI5dBWJ4K_"
      },
      "source": [
        "### Seaborn library\n",
        "https://github.com/gmonu/Data-Visualization-using-Python/blob/master/Weather_Data_Visualize/Weather%20Data%20Visualization.ipynb"
      ]
    },
    {
      "cell_type": "code",
      "metadata": {
        "id": "75RjeUtnJ2hD",
        "outputId": "ccf7e9b6-e1ac-4cc7-c3ae-7c3588adf2f7",
        "colab": {
          "base_uri": "https://localhost:8080/",
          "height": 458
        }
      },
      "source": [
        "import seaborn as sns\n",
        "import matplotlib.pyplot as plt\n",
        "d=sns.jointplot(data=df,x='mpg',y='disp')\n",
        "d.set_axis_labels(xlabel=\"MPG\",ylabel=\"Display\")"
      ],
      "execution_count": null,
      "outputs": [
        {
          "output_type": "execute_result",
          "data": {
            "text/plain": [
              "<seaborn.axisgrid.JointGrid at 0x7f22b1ffb828>"
            ]
          },
          "metadata": {
            "tags": []
          },
          "execution_count": 78
        },
        {
          "output_type": "display_data",
          "data": {
            "image/png": "[encoded data removed]",
            "text/plain": [
              "<Figure size 432x432 with 3 Axes>"
            ]
          },
          "metadata": {
            "tags": [],
            "needs_background": "light"
          }
        }
      ]
    },
    {
      "cell_type": "markdown",
      "metadata": {
        "id": "_UFCtFdwm2B1"
      },
      "source": [
        "# Finance"
      ]
    },
    {
      "cell_type": "code",
      "metadata": {
        "id": "4Bgyq7zWm-uy"
      },
      "source": [
        "import numpy as np\n",
        "import pandas as pd"
      ],
      "execution_count": 2,
      "outputs": []
    },
    {
      "cell_type": "markdown",
      "metadata": {
        "id": "2-VwrUUYnOK5"
      },
      "source": [
        "EMI computation"
      ]
    },
    {
      "cell_type": "code",
      "metadata": {
        "id": "8xGxJgdLnDbi"
      },
      "source": [
        "Fin=pd.DataFrame({'Principle':np.ppmt(.01,range(0,12),12,-12000,0,\"end\"),\n",
        "                  \"Int\":np.ipmt(.01,range(0,12),12,-12000,0,\"end\")})\n",
        "Fin"
      ],
      "execution_count": null,
      "outputs": []
    },
    {
      "cell_type": "code",
      "metadata": {
        "id": "jtD6mEUmnIM7"
      },
      "source": [
        "Fin['Payment']=Fin[\"Principle\"]+Fin[\"Int\"]\n",
        "Fin"
      ],
      "execution_count": null,
      "outputs": []
    }
  ]
}